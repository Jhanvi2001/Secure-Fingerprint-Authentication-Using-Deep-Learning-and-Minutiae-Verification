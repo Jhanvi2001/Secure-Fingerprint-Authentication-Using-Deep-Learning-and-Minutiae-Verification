{
 "cells": [
  {
   "cell_type": "markdown",
   "metadata": {
    "id": "32Pgt1-DzBj7",
    "pycharm": {
     "name": "#%% md\n"
    }
   },
   "source": [
    "\n",
    "\n",
    "```\n",
    "Author ===> Jhanvi Shah\n",
    "GitHub ===> @Jhanvi2001\n",
    "Charotar University Of Science and Technology, CSPIT\n",
    "Anand, Gujarat, India.\n",
    "```\n",
    "\n"
   ]
  },
  {
   "cell_type": "markdown",
   "metadata": {
    "id": "VASfi1uUzcDF",
    "pycharm": {
     "name": "#%% md\n"
    }
   },
   "source": [
    "## **0. Libraries**"
   ]
  },
  {
   "cell_type": "code",
   "execution_count": 2,
   "metadata": {
    "id": "aTI1cZVM4KjP",
    "pycharm": {
     "name": "#%%\n"
    }
   },
   "outputs": [],
   "source": [
    "# Libraries/Modules for Phase 1\n",
    "import keras\n",
    "from keras.models import Sequential\n",
    "from keras.preprocessing.image import ImageDataGenerator\n",
    "\n",
    "# Library/Modules for phase 2\n",
    "from keras.layers import Dense, Conv2D, MaxPooling2D, Flatten\n",
    "\n",
    "# Libraries for phase 3\n",
    "import numpy as np\n",
    "import matplotlib.pyplot as plt\n",
    "\n",
    "# Library/Module for phase 4\n",
    "from keras.preprocessing import image"
   ]
  },
  {
   "cell_type": "markdown",
   "metadata": {
    "id": "_CDyZFry7ATE",
    "pycharm": {
     "name": "#%% md\n"
    }
   },
   "source": [
    "## **1. Loading Data**"
   ]
  },
  {
   "cell_type": "code",
   "execution_count": 3,
   "metadata": {
    "colab": {
     "base_uri": "https://localhost:8080/"
    },
    "id": "WqOWYjPTHZhE",
    "outputId": "9e3c9cd4-1231-407a-f834-16124147f0c5",
    "pycharm": {
     "name": "#%%\n"
    }
   },
   "outputs": [
    {
     "output_type": "stream",
     "name": "stdout",
     "text": [
      "Mounted at /content/drive\n"
     ]
    }
   ],
   "source": [
    "from google.colab import drive\n",
    "drive.mount('/content/drive')"
   ]
  },
  {
   "cell_type": "code",
   "execution_count": 4,
   "metadata": {
    "id": "Yz7tLOZQ5mnD",
    "pycharm": {
     "name": "#%%\n"
    }
   },
   "outputs": [],
   "source": [
    "\"\"\" Providing training-testing directory path \"\"\"\n",
    "\n",
    "train_data_path = '/content/drive/MyDrive/Dataset/LivDet 2015/Digital_Persona/Training/' # training directory path\n",
    "test_data_path = '/content/drive/MyDrive/Dataset/LivDet 2015/Digital_Persona/Testing/' # testing directory path\n",
    "\n",
    "\"\"\" \n",
    "    assigning object of sequential class \n",
    "    here sequtial is model type imported from keras\n",
    "\n",
    "\"\"\"\n",
    "\n",
    "model = Sequential()\n"
   ]
  },
  {
   "cell_type": "code",
   "execution_count": 5,
   "metadata": {
    "colab": {
     "base_uri": "https://localhost:8080/"
    },
    "id": "zentKL2i546t",
    "outputId": "29297b0f-5267-4289-e139-9358fe92d753",
    "pycharm": {
     "name": "#%%\n"
    }
   },
   "outputs": [
    {
     "output_type": "stream",
     "name": "stdout",
     "text": [
      "Found 2010 images belonging to 2 classes.\n",
      "Found 2500 images belonging to 2 classes.\n"
     ]
    }
   ],
   "source": [
    "\"\"\" \n",
    "    Rescaling data/images using ImageDataGenerator class.\n",
    "    Loading all data/images in (128,128) size and in total 16 batches.\n",
    "    Two categories: Live and Fake to classify input data/image.\n",
    "\n",
    "\"\"\"\n",
    "\n",
    "# rescaling and loading training data\n",
    "train_data = ImageDataGenerator(rescale=1.0/255) \n",
    "train_set = train_data.flow_from_directory(directory=train_data_path, target_size=(128,128), batch_size=16, color_mode='rgb', class_mode='binary') \n",
    "\n",
    "# rescaling and loading testing data\n",
    "test_data = ImageDataGenerator(rescale=1.0/255) # rescaling\n",
    "test_set = test_data.flow_from_directory(directory=test_data_path, target_size=(128,128), batch_size=16, color_mode='rgb', class_mode='binary') \n"
   ]
  },
  {
   "cell_type": "markdown",
   "metadata": {
    "id": "U1Q4sOf47HKo",
    "pycharm": {
     "name": "#%% md\n"
    }
   },
   "source": [
    "## **2. Convolutional Neural Network**"
   ]
  },
  {
   "cell_type": "code",
   "execution_count": 6,
   "metadata": {
    "id": "88fauFh27R2L",
    "pycharm": {
     "name": "#%%\n"
    }
   },
   "outputs": [],
   "source": [
    "\"\"\" 1. First Layer \"\"\"\n",
    "\n",
    "model.add(Conv2D(32,(3,3),input_shape=(128,128,3),activation='relu'))\n",
    "model.add(MaxPooling2D(pool_size=(2,2)))\n"
   ]
  },
  {
   "cell_type": "code",
   "execution_count": 7,
   "metadata": {
    "id": "11iLXU-T7tVa",
    "pycharm": {
     "name": "#%%\n"
    }
   },
   "outputs": [],
   "source": [
    "\"\"\" 2. Second Layer \"\"\"\n",
    "\n",
    "model.add(Conv2D(64,(3,3),activation='relu'))\n",
    "model.add(MaxPooling2D(pool_size=(2,2)))\n"
   ]
  },
  {
   "cell_type": "code",
   "execution_count": 8,
   "metadata": {
    "id": "Y0G4Cc87HqmJ",
    "pycharm": {
     "name": "#%%\n"
    }
   },
   "outputs": [],
   "source": [
    "\"\"\" 3. Third Layer \"\"\"\n",
    "\n",
    "model.add(Conv2D(256,(3,3),input_shape=(128,128,3),activation='relu'))\n",
    "model.add(MaxPooling2D(pool_size=(2,2)))"
   ]
  },
  {
   "cell_type": "code",
   "execution_count": 9,
   "metadata": {
    "id": "ykaJ4Woo77Ys",
    "pycharm": {
     "name": "#%%\n"
    }
   },
   "outputs": [],
   "source": [
    "\"\"\" 4. Flatten Layer \"\"\"\n",
    "\n",
    "model.add(Flatten())\n"
   ]
  },
  {
   "cell_type": "code",
   "execution_count": 10,
   "metadata": {
    "id": "tRDG5MB47_o_",
    "pycharm": {
     "name": "#%%\n"
    }
   },
   "outputs": [],
   "source": [
    "\"\"\" 5. Dense Layer \"\"\"\n",
    "\n",
    "model.add(Dense(256,activation='relu'))\n",
    "model.add(Dense(128,activation='relu'))\n",
    "model.add(Dense(1,activation='sigmoid'))\n"
   ]
  },
  {
   "cell_type": "code",
   "execution_count": 12,
   "metadata": {
    "colab": {
     "base_uri": "https://localhost:8080/"
    },
    "id": "PQhpKGuD8QLu",
    "outputId": "79431f4a-d51a-4bc8-d559-5f6ec706b2bf",
    "pycharm": {
     "name": "#%%\n"
    }
   },
   "outputs": [
    {
     "output_type": "stream",
     "name": "stdout",
     "text": [
      "Epoch 1/20\n",
      "126/126 [==============================] - 261s 2s/step - loss: 0.5967 - accuracy: 0.6582 - val_loss: 0.6927 - val_accuracy: 0.6436\n",
      "Epoch 2/20\n",
      "126/126 [==============================] - 116s 919ms/step - loss: 0.4036 - accuracy: 0.8134 - val_loss: 0.4377 - val_accuracy: 0.7936\n",
      "Epoch 3/20\n",
      "126/126 [==============================] - 116s 922ms/step - loss: 0.2615 - accuracy: 0.8920 - val_loss: 0.4788 - val_accuracy: 0.7832\n",
      "Epoch 4/20\n",
      "126/126 [==============================] - 117s 927ms/step - loss: 0.1988 - accuracy: 0.9209 - val_loss: 0.5355 - val_accuracy: 0.8224\n",
      "Epoch 5/20\n",
      "126/126 [==============================] - 116s 921ms/step - loss: 0.2229 - accuracy: 0.9080 - val_loss: 0.4493 - val_accuracy: 0.8160\n",
      "Epoch 6/20\n",
      "126/126 [==============================] - 119s 943ms/step - loss: 0.1103 - accuracy: 0.9572 - val_loss: 0.5072 - val_accuracy: 0.8216\n",
      "Epoch 7/20\n",
      "126/126 [==============================] - 117s 928ms/step - loss: 0.0784 - accuracy: 0.9716 - val_loss: 0.6248 - val_accuracy: 0.8056\n",
      "Epoch 8/20\n",
      "126/126 [==============================] - 116s 926ms/step - loss: 0.0548 - accuracy: 0.9816 - val_loss: 0.7740 - val_accuracy: 0.8216\n",
      "Epoch 9/20\n",
      "126/126 [==============================] - 117s 928ms/step - loss: 0.0275 - accuracy: 0.9915 - val_loss: 0.7852 - val_accuracy: 0.8316\n",
      "Epoch 10/20\n",
      "126/126 [==============================] - 117s 928ms/step - loss: 0.0509 - accuracy: 0.9791 - val_loss: 0.7905 - val_accuracy: 0.8232\n",
      "Epoch 11/20\n",
      "126/126 [==============================] - 117s 930ms/step - loss: 0.0362 - accuracy: 0.9866 - val_loss: 0.7626 - val_accuracy: 0.8132\n",
      "Epoch 12/20\n",
      "126/126 [==============================] - 117s 930ms/step - loss: 0.0069 - accuracy: 0.9980 - val_loss: 1.0922 - val_accuracy: 0.8148\n",
      "Epoch 13/20\n",
      "126/126 [==============================] - 117s 928ms/step - loss: 4.6963e-04 - accuracy: 1.0000 - val_loss: 1.0913 - val_accuracy: 0.8260\n",
      "Epoch 14/20\n",
      "126/126 [==============================] - 125s 992ms/step - loss: 1.7441e-04 - accuracy: 1.0000 - val_loss: 1.1730 - val_accuracy: 0.8232\n",
      "Epoch 15/20\n",
      "126/126 [==============================] - 118s 938ms/step - loss: 1.1537e-04 - accuracy: 1.0000 - val_loss: 1.2191 - val_accuracy: 0.8236\n",
      "Epoch 16/20\n",
      "126/126 [==============================] - 117s 932ms/step - loss: 8.4812e-05 - accuracy: 1.0000 - val_loss: 1.2583 - val_accuracy: 0.8228\n",
      "Epoch 17/20\n",
      "126/126 [==============================] - 117s 932ms/step - loss: 6.0613e-05 - accuracy: 1.0000 - val_loss: 1.3605 - val_accuracy: 0.8204\n",
      "Epoch 18/20\n",
      "126/126 [==============================] - 117s 928ms/step - loss: 3.9697e-05 - accuracy: 1.0000 - val_loss: 1.5182 - val_accuracy: 0.8140\n",
      "Epoch 19/20\n",
      "126/126 [==============================] - 117s 930ms/step - loss: 3.3469e-05 - accuracy: 1.0000 - val_loss: 1.3967 - val_accuracy: 0.8216\n",
      "Epoch 20/20\n",
      "126/126 [==============================] - 117s 931ms/step - loss: 1.9459e-05 - accuracy: 1.0000 - val_loss: 1.4489 - val_accuracy: 0.8212\n"
     ]
    }
   ],
   "source": [
    "\"\"\" Compiling the model \"\"\"\n",
    "\n",
    "# using Adam optimizer and getting performace metric based on accuracy as a parameter\n",
    "model.compile(optimizer='adam',loss='binary_crossentropy',metrics=['accuracy']) \n",
    "\n",
    "# fitting data/images to model with total 30 epochs\n",
    "model_history = model.fit(train_set, validation_data=test_set, epochs=20) \n"
   ]
  },
  {
   "cell_type": "markdown",
   "metadata": {
    "id": "UppRLkh78qyE",
    "pycharm": {
     "name": "#%% md\n"
    }
   },
   "source": [
    "## **3. Performance Analysis**"
   ]
  },
  {
   "cell_type": "code",
   "execution_count": 13,
   "metadata": {
    "colab": {
     "base_uri": "https://localhost:8080/"
    },
    "id": "iLH7l-X-8slG",
    "outputId": "1ca89a32-16f1-409c-8330-68cd0f76dc56",
    "pycharm": {
     "name": "#%%\n"
    }
   },
   "outputs": [
    {
     "output_type": "execute_result",
     "data": {
      "text/plain": [
       "<function matplotlib.pyplot.figure>"
      ]
     },
     "metadata": {},
     "execution_count": 13
    }
   ],
   "source": [
    "plt.style.use('ggplot') # using ggplot (grammer of graphics) style to draw figures.\n",
    "plt.figure"
   ]
  },
  {
   "cell_type": "code",
   "execution_count": 14,
   "metadata": {
    "colab": {
     "base_uri": "https://localhost:8080/",
     "height": 282
    },
    "id": "6d-feCZM8yAO",
    "outputId": "30dcc3ae-9260-4b65-c16d-8a46812eed81",
    "pycharm": {
     "name": "#%%\n"
    }
   },
   "outputs": [
    {
     "output_type": "execute_result",
     "data": {
      "text/plain": [
       "[<matplotlib.lines.Line2D at 0x7f99176f1c10>]"
      ]
     },
     "metadata": {},
     "execution_count": 14
    },
    {
     "output_type": "display_data",
     "data": {
      "text/plain": [
       "<Figure size 432x288 with 1 Axes>"
      ],
      "image/png": "[encoded data removed]"
     },
     "metadata": {}
    }
   ],
   "source": [
    "\"\"\" \n",
    "    Drawing graph: Loss/Accuracy vs. Number of epochs\n",
    "    < Training History >\n",
    "\"\"\"\n",
    "\n",
    "plt.plot(np.arange(0,20), model_history.history['accuracy'], label='train_acc')"
   ]
  },
  {
   "cell_type": "code",
   "execution_count": 15,
   "metadata": {
    "colab": {
     "base_uri": "https://localhost:8080/",
     "height": 282
    },
    "id": "QPlmugQK8_-a",
    "outputId": "ca6b2377-8f6a-4946-d5b5-7cc486f99f92",
    "pycharm": {
     "name": "#%%\n"
    }
   },
   "outputs": [
    {
     "output_type": "execute_result",
     "data": {
      "text/plain": [
       "[<matplotlib.lines.Line2D at 0x7f99175eced0>]"
      ]
     },
     "metadata": {},
     "execution_count": 15
    },
    {
     "output_type": "display_data",
     "data": {
      "text/plain": [
       "<Figure size 432x288 with 1 Axes>"
      ],
      "image/png": "[encoded data removed]"
     },
     "metadata": {}
    }
   ],
   "source": [
    "\"\"\" \n",
    "    Drawing graph: Loss/Accuracy vs. Number of epochs\n",
    "    < Validation/Testing History >\n",
    "\"\"\"\n",
    "\n",
    "plt.plot(np.arange(0,20), model_history.history['val_accuracy'], label='val_accuracy')"
   ]
  },
  {
   "cell_type": "code",
   "execution_count": 16,
   "metadata": {
    "colab": {
     "base_uri": "https://localhost:8080/",
     "height": 316
    },
    "id": "HmuUYkJ1fk8L",
    "outputId": "b4e83911-3c36-46fe-f82d-db017633b525",
    "pycharm": {
     "name": "#%%\n"
    }
   },
   "outputs": [
    {
     "output_type": "execute_result",
     "data": {
      "text/plain": [
       "<matplotlib.legend.Legend at 0x7f9917580a50>"
      ]
     },
     "metadata": {},
     "execution_count": 16
    },
    {
     "output_type": "display_data",
     "data": {
      "text/plain": [
       "<Figure size 432x288 with 1 Axes>"
      ],
      "image/png": "[encoded data removed]"
     },
     "metadata": {}
    }
   ],
   "source": [
    "\"\"\" \n",
    "    Drawing graph: Loss/Accuracy vs. Number of epochs\n",
    "    < Training History + Validation/Testing History >\n",
    "\"\"\"\n",
    "\n",
    "plt.title('Training and Validation Accuracy On Dataset')\n",
    "plt.xlabel('Epoch #')\n",
    "plt.ylabel('Loss/Accuracy')\n",
    "plt.plot(np.arange(0,20), model_history.history['val_accuracy'], label='val_accuracy') # validation/testing measures\n",
    "plt.plot(np.arange(0,20), model_history.history['accuracy'], label='train_acc') # training measures\n",
    "plt.legend(loc='lower right') # setting legend to lower right position"
   ]
  },
  {
   "cell_type": "code",
   "execution_count": 17,
   "metadata": {
    "colab": {
     "base_uri": "https://localhost:8080/"
    },
    "id": "JR7_VUSztfxF",
    "outputId": "65791a40-ff1a-4f9b-8215-b7f2760cf81c",
    "pycharm": {
     "name": "#%%\n"
    }
   },
   "outputs": [
    {
     "output_type": "stream",
     "name": "stdout",
     "text": [
      "0.808160001039505\n"
     ]
    }
   ],
   "source": [
    "import statistics\n",
    "print(statistics.mean(model_history.history['val_accuracy']))"
   ]
  },
  {
   "cell_type": "markdown",
   "metadata": {
    "id": "RepoSWyBvT3O",
    "pycharm": {
     "name": "#%% md\n"
    }
   },
   "source": [
    "## **4. Testing Phase**"
   ]
  },
  {
   "cell_type": "code",
   "execution_count": 19,
   "metadata": {
    "colab": {
     "base_uri": "https://localhost:8080/"
    },
    "id": "J1chY6wCf4J9",
    "outputId": "6fcf0e29-0c27-4d35-dc10-46741b3bcb2c",
    "pycharm": {
     "name": "#%%\n"
    }
   },
   "outputs": [
    {
     "output_type": "execute_result",
     "data": {
      "text/plain": [
       "{'Fake': 0, 'Live': 1}"
      ]
     },
     "metadata": {},
     "execution_count": 19
    }
   ],
   "source": [
    "\"\"\" loading test image with (128,128) dimension \"\"\"\n",
    "\n",
    "test_image_path = '/content/drive/MyDrive/Dataset/GitHub_Dataset/testing/Live/10_5.png'\n",
    "test_image = image.load_img(test_image_path, target_size=(128,128)) # test image\n",
    "test_image = image.img_to_array(test_image) # converting image to array\n",
    "test_image = np.expand_dims(test_image, axis=0) # expanding shape of an array\n",
    "result = model.predict(test_image) # giving test_image array to model for prediction\n",
    "train_set.class_indices # checking class indices- Fake:0, Live:1"
   ]
  },
  {
   "cell_type": "code",
   "execution_count": 20,
   "metadata": {
    "id": "grTrltTMgqfV",
    "colab": {
     "base_uri": "https://localhost:8080/"
    },
    "outputId": "4ba70751-cdba-470c-8da5-73d38999972c",
    "pycharm": {
     "name": "#%%\n"
    }
   },
   "outputs": [
    {
     "output_type": "stream",
     "name": "stdout",
     "text": [
      "Input image category:  Live\n"
     ]
    }
   ],
   "source": [
    "\"\"\" finding test image category by comapring class indices \"\"\"\n",
    "\n",
    "if result[0][0]==1:\n",
    "  prediction = 'Live'\n",
    "else:\n",
    "  prediction = 'Fake'\n",
    "\n",
    "print('Input image category: ',prediction)"
   ]
  }
 ],
 "metadata": {
  "accelerator": "TPU",
  "colab": {
   "collapsed_sections": [],
   "name": "LiveDet2015_CNN_Binary_Classification.ipynb",
   "provenance": []
  },
  "gpuClass": "standard",
  "kernelspec": {
   "display_name": "Python 3",
   "name": "python3"
  },
  "language_info": {
   "name": "python"
  }
 },
 "nbformat": 4,
 "nbformat_minor": 0
}