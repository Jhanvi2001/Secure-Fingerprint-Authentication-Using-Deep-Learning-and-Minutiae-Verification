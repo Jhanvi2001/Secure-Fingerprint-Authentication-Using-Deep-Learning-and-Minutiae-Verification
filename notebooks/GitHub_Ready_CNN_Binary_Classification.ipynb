{
  "nbformat": 4,
  "nbformat_minor": 0,
  "metadata": {
    "colab": {
      "name": "GitHub Ready: CNN - Binary Classification",
      "provenance": [],
      "collapsed_sections": []
    },
    "kernelspec": {
      "name": "python3",
      "display_name": "Python 3"
    },
    "language_info": {
      "name": "python"
    },
    "accelerator": "TPU",
    "gpuClass": "standard"
  },
  "cells": [
    {
      "cell_type": "markdown",
      "source": [
        "\n",
        "\n",
        "```\n",
        "Author ===> Jhanvi Shah\n",
        "GitHub ===> @Jhanvi2001\n",
        "Charotar University Of Science and Technology, CSPIT\n",
        "Anand, Gujarat, India.\n",
        "```\n",
        "\n"
      ],
      "metadata": {
        "id": "32Pgt1-DzBj7"
      }
    },
    {
      "cell_type": "markdown",
      "source": [
        "## **0. Libraries**"
      ],
      "metadata": {
        "id": "VASfi1uUzcDF"
      }
    },
    {
      "cell_type": "code",
      "execution_count": null,
      "metadata": {
        "id": "aTI1cZVM4KjP"
      },
      "outputs": [],
      "source": [
        "# Libraries/Modules for Phase 1\n",
        "import keras\n",
        "from keras.models import Sequential\n",
        "from keras.preprocessing.image import ImageDataGenerator\n",
        "\n",
        "# Library/Modules for phase 2\n",
        "from keras.layers import Dense, Conv2D, MaxPooling2D, Flatten\n",
        "\n",
        "# Libraries for phase 3\n",
        "import numpy as np\n",
        "import matplotlib.pyplot as plt\n",
        "\n",
        "# Library/Module for phase 4\n",
        "from keras.preprocessing import image"
      ]
    },
    {
      "cell_type": "markdown",
      "source": [
        "## **1. Loading Data**"
      ],
      "metadata": {
        "id": "_CDyZFry7ATE"
      }
    },
    {
      "cell_type": "code",
      "source": [
        "\"\"\" Providing training-testing directory path \"\"\"\n",
        "\n",
        "train_data_path = '/content/drive/MyDrive/BISAG Internship/Dataset/LivDet 2015/Digital_Persona/Training/' # training directory path\n",
        "test_data_path = '/content/drive/MyDrive/BISAG Internship/Dataset/LivDet 2015/Digital_Persona/Testing/' # testing directory path\n",
        "\n",
        "\"\"\" \n",
        "    assigning object of sequential class \n",
        "    here sequtial is model type imported from keras\n",
        "\n",
        "\"\"\"\n",
        "\n",
        "model = Sequential()\n"
      ],
      "metadata": {
        "id": "Yz7tLOZQ5mnD"
      },
      "execution_count": null,
      "outputs": []
    },
    {
      "cell_type": "code",
      "source": [
        "\"\"\" \n",
        "    Rescaling data/images using ImageDataGenerator class.\n",
        "    Loading all data/images in (128,128) size and in total 32 batches.\n",
        "    Two categories: Live and Fake to classify input data/image.\n",
        "\n",
        "\"\"\"\n",
        "\n",
        "# rescaling and loading training data\n",
        "train_data = ImageDataGenerator(rescale=1.0/255) \n",
        "train_set = train_data.flow_from_directory(directory=train_data_path, target_size=(128,128), batch_size=32, color_mode='rgb', class_mode='binary') \n",
        "\n",
        "# rescaling and loading testing data\n",
        "test_data = ImageDataGenerator(rescale=1.0/255) # rescaling\n",
        "test_set = test_data.flow_from_directory(directory=test_data_path, target_size=(128,128), batch_size=32, color_mode='rgb', class_mode='binary') \n"
      ],
      "metadata": {
        "id": "zentKL2i546t",
        "colab": {
          "base_uri": "https://localhost:8080/"
        },
        "outputId": "87b153ad-a8dc-4715-e915-6df7d3dbff89"
      },
      "execution_count": null,
      "outputs": [
        {
          "output_type": "stream",
          "name": "stdout",
          "text": [
            "Found 2010 images belonging to 2 classes.\n",
            "Found 2500 images belonging to 2 classes.\n"
          ]
        }
      ]
    },
    {
      "cell_type": "markdown",
      "source": [
        "## **2. Convolutional Neural Network**"
      ],
      "metadata": {
        "id": "U1Q4sOf47HKo"
      }
    },
    {
      "cell_type": "code",
      "source": [
        "\"\"\" 1. First Layer \"\"\"\n",
        "\n",
        "model.add(Conv2D(32,(3,3),input_shape=(128,128,3),activation='relu'))\n",
        "model.add(MaxPooling2D(pool_size=(2,2)))\n"
      ],
      "metadata": {
        "id": "88fauFh27R2L"
      },
      "execution_count": null,
      "outputs": []
    },
    {
      "cell_type": "code",
      "source": [
        "\"\"\" 2. Second Layer \"\"\"\n",
        "\n",
        "model.add(Conv2D(64,(3,3),activation='relu'))\n",
        "model.add(MaxPooling2D(pool_size=(2,2)))\n"
      ],
      "metadata": {
        "id": "11iLXU-T7tVa"
      },
      "execution_count": null,
      "outputs": []
    },
    {
      "cell_type": "code",
      "source": [
        "\"\"\" 3. Flatten Layer \"\"\"\n",
        "\n",
        "model.add(Flatten())\n"
      ],
      "metadata": {
        "id": "ykaJ4Woo77Ys"
      },
      "execution_count": null,
      "outputs": []
    },
    {
      "cell_type": "code",
      "source": [
        "\"\"\" 4. Dense Layer \"\"\"\n",
        "\n",
        "model.add(Dense(256,activation='relu'))\n",
        "model.add(Dense(1,activation='sigmoid'))\n"
      ],
      "metadata": {
        "id": "tRDG5MB47_o_"
      },
      "execution_count": null,
      "outputs": []
    },
    {
      "cell_type": "code",
      "source": [
        "\"\"\" Compiling the model \"\"\"\n",
        "\n",
        "# using Adam optimizer and getting performace metric based on accuracy as a parameter\n",
        "model.compile(optimizer='adam',loss='binary_crossentropy',metrics=['accuracy']) \n",
        "\n",
        "# fitting data/images to model with total 30 epochs\n",
        "model_history = model.fit(train_set, validation_data=test_set, epochs=30) \n"
      ],
      "metadata": {
        "id": "PQhpKGuD8QLu"
      },
      "execution_count": null,
      "outputs": []
    },
    {
      "cell_type": "markdown",
      "source": [
        "## **3. Performance Analysis**"
      ],
      "metadata": {
        "id": "UppRLkh78qyE"
      }
    },
    {
      "cell_type": "code",
      "source": [
        "plt.style.use('ggplot') # using ggplot (grammer of graphics) style to draw figures.\n",
        "plt.figure"
      ],
      "metadata": {
        "id": "iLH7l-X-8slG",
        "colab": {
          "base_uri": "https://localhost:8080/"
        },
        "outputId": "fbfeb0a5-ebaa-496a-d479-ec55d7f8022e"
      },
      "execution_count": null,
      "outputs": [
        {
          "output_type": "execute_result",
          "data": {
            "text/plain": [
              "<function matplotlib.pyplot.figure>"
            ]
          },
          "metadata": {},
          "execution_count": 10
        }
      ]
    },
    {
      "cell_type": "code",
      "source": [
        "\"\"\" \n",
        "    Drawing graph: Loss/Accuracy vs. Number of epochs\n",
        "    < Training History >\n",
        "\"\"\"\n",
        "\n",
        "plt.plot(np.arange(0,30), model_history.history['accuracy'], label='train_acc')"
      ],
      "metadata": {
        "id": "6d-feCZM8yAO",
        "colab": {
          "base_uri": "https://localhost:8080/",
          "height": 282
        },
        "outputId": "3d86c391-f3fa-4c05-f74d-9aef84b03eec"
      },
      "execution_count": null,
      "outputs": [
        {
          "output_type": "execute_result",
          "data": {
            "text/plain": [
              "[<matplotlib.lines.Line2D at 0x7f336b774c10>]"
            ]
          },
          "metadata": {},
          "execution_count": 11
        },
        {
          "output_type": "display_data",
          "data": {
            "text/plain": [
              "<Figure size 432x288 with 1 Axes>"
            ],
            "image/png": "[encoded data removed]"
          },
          "metadata": {}
        }
      ]
    },
    {
      "cell_type": "code",
      "source": [
        "\"\"\" \n",
        "    Drawing graph: Loss/Accuracy vs. Number of epochs\n",
        "    < Validation/Testing History >\n",
        "\"\"\"\n",
        "\n",
        "plt.plot(np.arange(0,30), model_history.history['val_accuracy'], label='val_accuracy')"
      ],
      "metadata": {
        "id": "QPlmugQK8_-a",
        "colab": {
          "base_uri": "https://localhost:8080/",
          "height": 282
        },
        "outputId": "44159f09-1790-49ba-e074-805b5a0b6af3"
      },
      "execution_count": null,
      "outputs": [
        {
          "output_type": "execute_result",
          "data": {
            "text/plain": [
              "[<matplotlib.lines.Line2D at 0x7f336b21ca10>]"
            ]
          },
          "metadata": {},
          "execution_count": 12
        },
        {
          "output_type": "display_data",
          "data": {
            "text/plain": [
              "<Figure size 432x288 with 1 Axes>"
            ],
            "image/png": "[encoded data removed]"
          },
          "metadata": {}
        }
      ]
    },
    {
      "cell_type": "code",
      "source": [
        "\"\"\" \n",
        "    Drawing graph: Loss/Accuracy vs. Number of epochs\n",
        "    < Training History + Validation/Testing History >\n",
        "\"\"\"\n",
        "\n",
        "plt.title('Training and Validation Accuracy On Dataset')\n",
        "plt.xlabel('Epoch #')\n",
        "plt.ylabel('Loss/Accuracy')\n",
        "plt.plot(np.arange(0,30), model_history.history['val_accuracy'], label='val_accuracy') # validation/testing measures\n",
        "plt.plot(np.arange(0,30), model_history.history['accuracy'], label='train_acc') # training measures\n",
        "plt.legend(loc='lower right') # setting legend to lower right position"
      ],
      "metadata": {
        "colab": {
          "base_uri": "https://localhost:8080/",
          "height": 316
        },
        "id": "HmuUYkJ1fk8L",
        "outputId": "f8562416-7e14-4f06-ca48-eaf0cd300bad"
      },
      "execution_count": null,
      "outputs": [
        {
          "output_type": "execute_result",
          "data": {
            "text/plain": [
              "<matplotlib.legend.Legend at 0x7f3369ed03d0>"
            ]
          },
          "metadata": {},
          "execution_count": 14
        },
        {
          "output_type": "display_data",
          "data": {
            "text/plain": [
              "<Figure size 432x288 with 1 Axes>"
            ],
            "image/png": "[encoded data removed]"
          },
          "metadata": {}
        }
      ]
    },
    {
      "cell_type": "markdown",
      "source": [
        "## **4. Testing Phase**"
      ],
      "metadata": {
        "id": "RepoSWyBvT3O"
      }
    },
    {
      "cell_type": "code",
      "source": [
        "\"\"\" loading test image with (128,128) dimension \"\"\"\n",
        "\n",
        "test_image_path = '/content/drive/MyDrive/BISAG Internship/Dataset/GitHub_Dataset/testing/Live/10_5.png'\n",
        "test_image = image.load_img(test_image_path, target_size=(128,128)) # test image\n",
        "test_image = image.img_to_array(test_image) # converting image to array\n",
        "test_image = np.expand_dims(test_image, axis=0) # expanding shape of an array\n",
        "result = model.predict(test_image) # giving test_image array to model for prediction\n",
        "train_set.class_indices # checking class indices- Fake:0, Live:1"
      ],
      "metadata": {
        "colab": {
          "base_uri": "https://localhost:8080/"
        },
        "id": "J1chY6wCf4J9",
        "outputId": "b8fcebd9-ddb6-4bf1-d0a1-30816ed81b67"
      },
      "execution_count": null,
      "outputs": [
        {
          "output_type": "execute_result",
          "data": {
            "text/plain": [
              "{'Fake': 0, 'Live': 1}"
            ]
          },
          "metadata": {},
          "execution_count": 15
        }
      ]
    },
    {
      "cell_type": "code",
      "source": [
        "\"\"\" finding test image category by comapring class indices \"\"\"\n",
        "\n",
        "if result[0][0]==1:\n",
        "  prediction = 'Live'\n",
        "else:\n",
        "  prediction = 'Fake'\n",
        "\n",
        "print('Input image category: ',prediction)"
      ],
      "metadata": {
        "id": "grTrltTMgqfV"
      },
      "execution_count": null,
      "outputs": []
    }
  ]
}