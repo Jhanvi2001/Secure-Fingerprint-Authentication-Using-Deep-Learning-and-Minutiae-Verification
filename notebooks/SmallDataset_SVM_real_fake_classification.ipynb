{
 "cells": [
  {
   "cell_type": "markdown",
   "metadata": {},
   "source": [
    "```\n",
    "Author ===> Adnan Vahora\n",
    "GitHub ===> @settler-av\n",
    "Charotar University Of Science and Technology, CSPIT\n",
    "Anand, Gujarat, India.\n",
    "```"
   ]
  },
  {
   "cell_type": "markdown",
   "metadata": {},
   "source": [
    "## **0. Libraries**"
   ]
  },
  {
   "cell_type": "code",
   "execution_count": null,
   "metadata": {},
   "outputs": [],
   "source": [
    "from tqdm import tqdm\n",
    "from LBP_helper import LocalBinaryPatterns\n",
    "from sklearn.model_selection import train_test_split, GridSearchCV\n",
    "from sklearn.svm import SVC\n",
    "from imutils import paths\n",
    "import cv2\n",
    "import os"
   ]
  },
  {
   "cell_type": "markdown",
   "metadata": {},
   "source": [
    "## **1. Loading Data**"
   ]
  },
  {
   "cell_type": "code",
   "execution_count": null,
   "metadata": {},
   "outputs": [],
   "source": [
    "# initialize the local binary patterns descriptor along with\n",
    "# the data and label lists\n",
    "desc = LocalBinaryPatterns(24, 8)\n",
    "data = []  # Will\n",
    "labels = []\n",
    "home_path = os.getcwd()\n",
    "import glob\n",
    "# loop over the training images\n",
    "# imagePaths = list(paths.list_images('Dataset\\\\training')) + list(paths.list_images('Dataset\\\\testing'))\n",
    "imagePaths = glob.iglob('Dataset/' + '**/*.png', recursive=True)\n",
    "# print(list(imagePaths))\n",
    "# print(list(paths.list_images('testing')))\n",
    "print(\"Done with storing the list of images\")\n",
    "\n",
    "print(\"Started image processing\")\n",
    "for imagePath in tqdm(imagePaths):\n",
    "    # load the image, convert it to grayscale, and describe it\n",
    "    gray = cv2.imread(imagePath, cv2.IMREAD_GRAYSCALE)\n",
    "    hist = desc.describe(gray)\n",
    "\n",
    "    # extract the label from the image path, then update the\n",
    "    # label and data lists\n",
    "    labels.append(imagePath.split(os.path.sep)[-2])\n",
    "    data.append(hist)\n",
    "print(\"Done with image processing\")"
   ]
  },
  {
   "cell_type": "markdown",
   "metadata": {},
   "source": [
    "## **2. Support Vector Machine with GridSearchCV**"
   ]
  },
  {
   "cell_type": "code",
   "execution_count": null,
   "metadata": {},
   "outputs": [],
   "source": [
    "'''\n",
    "Split the data into a training and testing set\n",
    "Train: 80%\n",
    "Test: 20%\n",
    "'''\n",
    "x_train, x_test, y_train, y_test = train_test_split(data, labels, test_size=0.2, shuffle=True)\n",
    "\n",
    "'''\n",
    "Performing GridSearchCV with 5 folds to get the best value of parameters\n",
    "'''\n",
    "grid_search = GridSearchCV(SVC(kernel='rbf'),\n",
    "                           param_grid={'C': [10, 100, 1000, 10000, 100000], 'gamma': [100, 10, 1, 0.1, 0.01, .0001]},\n",
    "                           cv=5, verbose=True)\n",
    "grid_search.fit(x_train, y_train)\n",
    "params = grid_search.best_params_\n",
    "print(\"Best parameter: \", params)\n",
    "\n",
    "model = SVC(kernel='rbf', C=params['C'], gamma=params['gamma'], probability=True,verbose=True)\n",
    "model.fit(x_train, y_train)"
   ]
  },
  {
   "cell_type": "markdown",
   "metadata": {},
   "source": [
    "## Save Model"
   ]
  },
  {
   "cell_type": "code",
   "execution_count": null,
   "metadata": {},
   "outputs": [],
   "source": [
    "#save the model with joblibpython \n",
    "import joblib\n",
    "filename = 'model/SVM_rbf.h5'\n",
    "joblib.dump(model, filename)"
   ]
  },
  {
   "cell_type": "markdown",
   "metadata": {},
   "source": [
    "## **3. Performance Analysis**"
   ]
  },
  {
   "cell_type": "code",
   "execution_count": null,
   "metadata": {},
   "outputs": [],
   "source": [
    "model.score(x_test, y_test)\n",
    "print(model.predict(x_test[1].reshape(1, -1)))\n",
    "print(model.predict_proba(x_test[1].reshape(1, -1)))\n",
    "print(\"Test accuracy: \", model.score(x_test, y_test))\n",
    "print(\"train accuracy: \", model.score(x_train, y_train))"
   ]
  },
  {
   "cell_type": "markdown",
   "metadata": {},
   "source": [
    "## **4. Testing Phase**"
   ]
  },
  {
   "cell_type": "code",
   "execution_count": null,
   "metadata": {
    "collapsed": true,
    "pycharm": {
     "name": "#%%\n"
    }
   },
   "outputs": [],
   "source": [
    "# check image\n",
    "import numpy as np\n",
    "from keras.preprocessing import image\n",
    "\n",
    "test_image = cv2.imread(\"Fake_1.png\")\n",
    "gray1 = cv2.cvtColor(test_image, cv2.COLOR_BGR2GRAY)\n",
    "hist1 = desc.describe(gray1)\n",
    "\n",
    "result = model.predict(hist1.reshape(1, -1))\n",
    "if result[0][0] == 1:\n",
    "    prediction = 'Live'\n",
    "else:\n",
    "    prediction = 'Fake'\n",
    "print(result)"
   ]
  }
 ],
 "metadata": {
  "kernelspec": {
   "display_name": "Python 3",
   "language": "python",
   "name": "python3"
  },
  "language_info": {
   "codemirror_mode": {
    "name": "ipython",
    "version": 2
   },
   "file_extension": ".py",
   "mimetype": "text/x-python",
   "name": "python",
   "nbconvert_exporter": "python",
   "pygments_lexer": "ipython2",
   "version": "2.7.6"
  }
 },
 "nbformat": 4,
 "nbformat_minor": 0
}
