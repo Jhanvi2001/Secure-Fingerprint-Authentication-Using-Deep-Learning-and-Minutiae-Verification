{
 "nbformat": 4,
 "nbformat_minor": 0,
 "metadata": {
  "colab": {
   "name": "GitHub_Ready_SVM_Binary_Classification.ipynb",
   "provenance": [],
   "collapsed_sections": []
  },
  "kernelspec": {
   "name": "python3",
   "display_name": "Python 3"
  },
  "language_info": {
   "name": "python"
  },
  "accelerator": "TPU",
  "gpuClass": "standard"
 },
 "cells": [
  {
   "cell_type": "markdown",
   "source": [
    "\n",
    "\n",
    "```\n",
    "Author ===> Jhanvi Shah\n",
    "GitHub ===> @Jhanvi2001\n",
    "Charotar University Of Science and Technology, CSPIT\n",
    "Anand, Gujarat, India.\n",
    "```\n",
    "\n"
   ],
   "metadata": {
    "id": "32Pgt1-DzBj7",
    "pycharm": {
     "name": "#%% md\n"
    }
   }
  },
  {
   "cell_type": "markdown",
   "source": [
    "## **0. Libraries**"
   ],
   "metadata": {
    "id": "VASfi1uUzcDF",
    "pycharm": {
     "name": "#%% md\n"
    }
   }
  },
  {
   "cell_type": "code",
   "execution_count": 13,
   "metadata": {
    "id": "aTI1cZVM4KjP",
    "pycharm": {
     "name": "#%%\n"
    }
   },
   "outputs": [],
   "source": [
    "# Libraries/Modules\n",
    "from tqdm import tqdm\n",
    "from sklearn.model_selection import train_test_split, GridSearchCV\n",
    "from sklearn.svm import SVC\n",
    "from imutils import paths\n",
    "import cv2\n",
    "import os"
   ]
  },
  {
   "cell_type": "code",
   "source": [
    "# import the necessary packages\n",
    "from skimage import feature\n",
    "import numpy as np\n",
    "\n",
    "\n",
    "class LocalBinaryPatterns:\n",
    "    def __init__(self, numPoints, radius):\n",
    "        # store the number of points and radius\n",
    "        self.numPoints = numPoints\n",
    "        self.radius = radius\n",
    "\n",
    "    def describe(self, image, eps=1e-7):\n",
    "        # compute the Local Binary Pattern representation\n",
    "        # of the image, and then use the LBP representation\n",
    "        # to build the histogram of patterns\n",
    "\n",
    "        lbp = feature.local_binary_pattern(image, self.numPoints, self.radius, method=\"uniform\")\n",
    "        (hist, _) = np.histogram(lbp.ravel(), bins=np.arange(0, self.numPoints + 3), range=(0, self.numPoints + 2))\n",
    "\n",
    "        # normalize the histogram\n",
    "        hist = hist.astype(\"float\")\n",
    "        hist /= (hist.sum() + eps)\n",
    "\n",
    "        # return the histogram of Local Binary Patterns\n",
    "        return hist"
   ],
   "metadata": {
    "id": "Fj0BxDYoujou",
    "pycharm": {
     "name": "#%%\n"
    }
   },
   "execution_count": 12,
   "outputs": []
  },
  {
   "cell_type": "code",
   "source": [
    "from google.colab import drive\n",
    "drive.mount('/content/drive')"
   ],
   "metadata": {
    "colab": {
     "base_uri": "https://localhost:8080/"
    },
    "id": "vDSi-C7dtRIZ",
    "outputId": "0ac48902-275a-4e36-9056-5f27bdf228a8",
    "pycharm": {
     "name": "#%%\n"
    }
   },
   "execution_count": 3,
   "outputs": [
    {
     "output_type": "stream",
     "name": "stdout",
     "text": [
      "Mounted at /content/drive\n"
     ]
    }
   ]
  },
  {
   "cell_type": "markdown",
   "source": [
    "## **1. Loading Data**"
   ],
   "metadata": {
    "id": "_CDyZFry7ATE",
    "pycharm": {
     "name": "#%% md\n"
    }
   }
  },
  {
   "cell_type": "code",
   "source": [
    "desc = LocalBinaryPatterns(24, 8)\n",
    "data = []  # Will\n",
    "labels = []\n",
    "home_path = os.getcwd()\n",
    "import glob\n",
    "# loop over the training images\n",
    "# imagePaths = list(paths.list_images('/content/drive/MyDrive/Dataset/LivDet 2015/Digital_Persona/Training/')) + list(paths.list_images('/content/drive/MyDrive/Dataset/LivDet 2015/Digital_Persona/Testing'))\n",
    "imagePaths = glob.iglob('/content/drive/MyDrive/Dataset/LivDet 2015/Digital_Persona/' + '**/*.png', recursive=True)\n",
    "# print(list(imagePaths))\n",
    "# print(list(paths.list_images('testing')))\n",
    "print(\"Done with storing the list of images\")\n",
    "\n",
    "print(\"Started image processing\")\n",
    "for imagePath in tqdm(imagePaths):\n",
    "    # load the image, convert it to grayscale, and describe it\n",
    "    gray = cv2.imread(imagePath, cv2.IMREAD_GRAYSCALE)\n",
    "    hist = desc.describe(gray)\n",
    "\n",
    "    # extract the label from the image path, then update the\n",
    "    # label and data lists\n",
    "    labels.append(imagePath.split(os.path.sep)[-2])\n",
    "    data.append(hist)\n",
    "print(\"Done with image processing\")\n"
   ],
   "metadata": {
    "colab": {
     "base_uri": "https://localhost:8080/"
    },
    "id": "86ELEtGoux5-",
    "outputId": "8d0bc5c8-f5fd-4f57-983c-100d5221d26c",
    "pycharm": {
     "name": "#%%\n"
    }
   },
   "execution_count": 17,
   "outputs": [
    {
     "output_type": "stream",
     "name": "stdout",
     "text": [
      "Done with storing the list of images\n",
      "Started image processing\n"
     ]
    },
    {
     "output_type": "stream",
     "name": "stderr",
     "text": [
      "308it [00:43,  7.08it/s]"
     ]
    },
    {
     "output_type": "stream",
     "name": "stdout",
     "text": [
      "Done with image processing\n"
     ]
    },
    {
     "output_type": "stream",
     "name": "stderr",
     "text": [
      "\n"
     ]
    }
   ]
  },
  {
   "cell_type": "markdown",
   "source": [
    "## **2. Support Vector Machine**"
   ],
   "metadata": {
    "id": "U1Q4sOf47HKo",
    "pycharm": {
     "name": "#%% md\n"
    }
   }
  },
  {
   "cell_type": "code",
   "source": [
    "\n",
    "'''\n",
    "Split the data into a training and testing set\n",
    "Train: 80%\n",
    "Test: 20%\n",
    "'''\n",
    "x_train, x_test, y_train, y_test = train_test_split(data, labels, test_size=0.2, shuffle=True)\n",
    "\n",
    "'''\n",
    "Performing GridSearchCV with 5 folds to get the best value of parameters\n",
    "'''\n",
    "grid_search = GridSearchCV(SVC(kernel='rbf'),\n",
    "                           param_grid={'C': [10, 100, 1000, 10000, 100000], 'gamma': [100, 10, 1, 0.1, 0.01, .0001]},\n",
    "                           cv=5, verbose=True)\n",
    "grid_search.fit(x_train, y_train)\n",
    "params = grid_search.best_params_\n",
    "print(\"Best parameter: \", params)\n",
    "\n",
    "model = SVC(kernel='rbf', C=params['C'], gamma=params['gamma'], probability=True,verbose=True)\n",
    "model.fit(x_train, y_train)\n"
   ],
   "metadata": {
    "id": "88fauFh27R2L",
    "colab": {
     "base_uri": "https://localhost:8080/"
    },
    "outputId": "3e7514e4-e24a-4a7b-aeb8-5fd8ded55928",
    "pycharm": {
     "name": "#%%\n"
    }
   },
   "execution_count": 20,
   "outputs": [
    {
     "output_type": "stream",
     "name": "stdout",
     "text": [
      "Fitting 5 folds for each of 30 candidates, totalling 150 fits\n",
      "Best parameter:  {'C': 100000, 'gamma': 0.1}\n",
      "[LibSVM]"
     ]
    },
    {
     "output_type": "execute_result",
     "data": {
      "text/plain": [
       "SVC(C=100000, gamma=0.1, probability=True, verbose=True)"
      ]
     },
     "metadata": {},
     "execution_count": 20
    }
   ]
  },
  {
   "cell_type": "code",
   "source": [
    "#save the model with joblibpython \n",
    "import joblib\n",
    "filename = 'SVM_rbf.h5'\n",
    "joblib.dump(model, filename)\n",
    "\n",
    "model.score(x_test, y_test)"
   ],
   "metadata": {
    "colab": {
     "base_uri": "https://localhost:8080/"
    },
    "id": "oYGJe_POwVzC",
    "outputId": "436838fb-f11a-4e46-a203-8d6aaa71cc33",
    "pycharm": {
     "name": "#%%\n"
    }
   },
   "execution_count": 26,
   "outputs": [
    {
     "output_type": "execute_result",
     "data": {
      "text/plain": [
       "0.8709677419354839"
      ]
     },
     "metadata": {},
     "execution_count": 26
    }
   ]
  },
  {
   "cell_type": "markdown",
   "source": [
    "## **3. Performance Analysis**"
   ],
   "metadata": {
    "id": "UppRLkh78qyE",
    "pycharm": {
     "name": "#%% md\n"
    }
   }
  },
  {
   "cell_type": "code",
   "source": [
    "print(model.predict(x_test[1].reshape(1, -1)))\n",
    "print(model.predict_proba(x_test[1].reshape(1, -1)))\n",
    "print(\"Test accuracy: \", model.score(x_test, y_test))\n",
    "print(\"train accuracy: \", model.score(x_train, y_train))"
   ],
   "metadata": {
    "id": "iLH7l-X-8slG",
    "colab": {
     "base_uri": "https://localhost:8080/"
    },
    "outputId": "2d43d291-eed9-4e35-8326-662aa24fc610",
    "pycharm": {
     "name": "#%%\n"
    }
   },
   "execution_count": 27,
   "outputs": [
    {
     "output_type": "stream",
     "name": "stdout",
     "text": [
      "['Live']\n",
      "[[0.02408559 0.97068531 0.0052291 ]]\n",
      "Test accuracy:  0.8709677419354839\n",
      "train accuracy:  0.8902439024390244\n"
     ]
    }
   ]
  },
  {
   "cell_type": "markdown",
   "source": [
    "## **4. Testing Phase**"
   ],
   "metadata": {
    "id": "RepoSWyBvT3O",
    "pycharm": {
     "name": "#%% md\n"
    }
   }
  },
  {
   "cell_type": "code",
   "source": [
    "desc = LocalBinaryPatterns(24, 8)\n",
    "data = []  # Will\n",
    "image_path = '/content/drive/MyDrive/Dataset/GitHub_Dataset/testing/Live/10_5.png'\n",
    "gray = cv2.imread(imagePath, cv2.IMREAD_GRAYSCALE)\n",
    "data = desc.describe(gray)\n",
    "model = joblib.load('SVM_rbf.h5')\n",
    "print(model.predict(data.reshape(1, -1)))"
   ],
   "metadata": {
    "colab": {
     "base_uri": "https://localhost:8080/"
    },
    "id": "U8D8gW42z3Xv",
    "outputId": "e09a439b-0fbe-40e4-8c55-af50e5a99017",
    "pycharm": {
     "name": "#%%\n"
    }
   },
   "execution_count": 46,
   "outputs": [
    {
     "output_type": "stream",
     "name": "stdout",
     "text": [
      "['Live']\n"
     ]
    }
   ]
  }
 ]
}