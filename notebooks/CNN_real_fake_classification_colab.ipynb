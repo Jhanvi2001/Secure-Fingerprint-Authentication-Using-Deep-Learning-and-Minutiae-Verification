{
 "cells": [
  {
   "cell_type": "markdown",
   "metadata": {
    "id": "view-in-github",
    "colab_type": "text",
    "pycharm": {
     "name": "#%% md\n"
    }
   },
   "source": [
    "<a href=\"https://colab.research.google.com/github/settler-av/Secure-Fingerprint-Authentication-Using-Deep-Learning-and-Minutiae-Verification/blob/master/notebooks/CNN_real_fake_classification_colab.ipynb\" target=\"_parent\"><img src=\"https://colab.research.google.com/assets/colab-badge.svg\" alt=\"Open In Colab\"/></a>"
   ]
  },
  {
   "cell_type": "code",
   "source": [
    "import os\n",
    "print(os.getcwd())\n",
    "print(os.chdir('/content/drive/Othercomputers/My Laptop/college document/SEM 5/Bisag Internship/Secure-Fingerprint-Authentication-Using-Deep-Learning-and-Minutiae-Verification'))\n",
    "print(os.getcwd())"
   ],
   "metadata": {
    "colab": {
     "base_uri": "https://localhost:8080/"
    },
    "id": "9hDYDUbcYx9p",
    "outputId": "510a7a74-97d7-41ec-bae4-aa37cd58a148",
    "pycharm": {
     "name": "#%%\n"
    }
   },
   "execution_count": 14,
   "outputs": [
    {
     "output_type": "stream",
     "name": "stdout",
     "text": [
      "/content/drive/Othercomputers/My Laptop/college document/SEM 5/Bisag Internship/Secure-Fingerprint-Authentication-Using-Deep-Learning-and-Minutiae-Verification\n",
      "None\n",
      "/content/drive/Othercomputers/My Laptop/college document/SEM 5/Bisag Internship/Secure-Fingerprint-Authentication-Using-Deep-Learning-and-Minutiae-Verification\n"
     ]
    }
   ]
  },
  {
   "cell_type": "code",
   "execution_count": null,
   "outputs": [],
   "source": [
    "from google.colab import drive\n",
    "drive.mount('/content/drive')"
   ],
   "metadata": {
    "collapsed": false,
    "pycharm": {
     "name": "#%%\n"
    }
   }
  },
  {
   "cell_type": "markdown",
   "source": [
    "### Run this if you are using local machine"
   ],
   "metadata": {
    "collapsed": false,
    "pycharm": {
     "name": "#%% md\n"
    }
   }
  },
  {
   "cell_type": "code",
   "execution_count": null,
   "outputs": [],
   "source": [
    "import os\n",
    "print(os.getcwd())\n",
    "os.chdir('../')\n",
    "print(os.getcwd())"
   ],
   "metadata": {
    "collapsed": false,
    "pycharm": {
     "name": "#%%\n"
    }
   }
  }
 ],
 "metadata": {
  "kernelspec": {
   "display_name": "Python 3",
   "language": "python",
   "name": "python3"
  },
  "language_info": {
   "codemirror_mode": {
    "name": "ipython",
    "version": 2
   },
   "file_extension": ".py",
   "mimetype": "text/x-python",
   "name": "python",
   "nbconvert_exporter": "python",
   "pygments_lexer": "ipython2",
   "version": "2.7.6"
  },
  "colab": {
   "name": "CNN_real_fake_classification.ipynb",
   "provenance": [],
   "include_colab_link": true
  }
 },
 "nbformat": 4,
 "nbformat_minor": 0
}