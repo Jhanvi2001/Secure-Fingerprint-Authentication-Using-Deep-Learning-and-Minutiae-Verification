{
  "cells": [
    {
      "cell_type": "markdown",
      "metadata": {
        "id": "view-in-github",
        "colab_type": "text"
      },
      "source": [
        "<a href=\"https://colab.research.google.com/github/settler-av/Secure-Fingerprint-Authentication-Using-Deep-Learning-and-Minutiae-Verification/blob/master/notebooks/CNN_real_fake_classification_colab.ipynb\" target=\"_parent\"><img src=\"https://colab.research.google.com/assets/colab-badge.svg\" alt=\"Open In Colab\"/></a>"
      ]
    },
    {
      "cell_type": "code",
      "execution_count": null,
      "metadata": {
        "collapsed": true,
        "pycharm": {
          "name": "#%%\n"
        },
        "id": "3GE8IWNGXc9C"
      },
      "outputs": [],
      "source": [
        ""
      ]
    },
    {
      "cell_type": "code",
      "source": [
        "import os\n",
        "print(os.getcwd())\n",
        "print(os.chdir('/content/drive/Othercomputers/My Laptop/college document/SEM 5/Bisag Internship/Secure-Fingerprint-Authentication-Using-Deep-Learning-and-Minutiae-Verification'))\n",
        "print(os.getcwd())"
      ],
      "metadata": {
        "colab": {
          "base_uri": "https://localhost:8080/"
        },
        "id": "9hDYDUbcYx9p",
        "outputId": "510a7a74-97d7-41ec-bae4-aa37cd58a148"
      },
      "execution_count": 14,
      "outputs": [
        {
          "output_type": "stream",
          "name": "stdout",
          "text": [
            "/content/drive/Othercomputers/My Laptop/college document/SEM 5/Bisag Internship/Secure-Fingerprint-Authentication-Using-Deep-Learning-and-Minutiae-Verification\n",
            "None\n",
            "/content/drive/Othercomputers/My Laptop/college document/SEM 5/Bisag Internship/Secure-Fingerprint-Authentication-Using-Deep-Learning-and-Minutiae-Verification\n"
          ]
        }
      ]
    },
    {
      "cell_type": "code",
      "source": [
        "from google.colab import drive\n",
        "drive.mount('/content/drive')"
      ],
      "metadata": {
        "colab": {
          "base_uri": "https://localhost:8080/"
        },
        "id": "H241TiVIXff-",
        "outputId": "73296932-c431-451a-fbb5-2ac12a8926f0"
      },
      "execution_count": 2,
      "outputs": [
        {
          "output_type": "stream",
          "name": "stdout",
          "text": [
            "Drive already mounted at /content/drive; to attempt to forcibly remount, call drive.mount(\"/content/drive\", force_remount=True).\n"
          ]
        }
      ]
    },
    {
      "cell_type": "code",
      "source": [
        "# -*- coding: utf-8 -*-\n",
        "\"\"\"\n",
        "Created on Mon Jun  6 18:32:32 2022\n",
        "\n",
        "@author: sjhan\n",
        "\"\"\"\n",
        "import keras\n",
        "from keras.models import Sequential\n",
        "from keras.layers import Dense, Conv2D, MaxPooling2D, Flatten\n",
        "from keras.preprocessing.image import ImageDataGenerator\n",
        "import matplotlib.pyplot as plt\n",
        "import numpy as np\n",
        "from keras.preprocessing import image\n",
        "# root = \"drive/Othercomputers/My Laptop/college document/SEM 5/Bisag Internship/Secure-Fingerprint-Authentication-Using-Deep-Learning-and-Minutiae-Verification\"\n",
        "train_path = 'Dataset/training/'\n",
        "test_path = 'Dataset/testing/'\n",
        "\n",
        "# data generator\n",
        "\n",
        "train_data = ImageDataGenerator(rescale=1. / 255)\n",
        "train_set = train_data.flow_from_directory(directory=train_path, target_size=(128, 128), batch_size=32,\n",
        "                                           color_mode=\"rgb\", class_mode='binary')\n",
        "\n",
        "test_data = ImageDataGenerator(rescale=1. / 255)\n",
        "test_set = train_data.flow_from_directory(directory=test_path, target_size=(128, 128), batch_size=32, color_mode=\"rgb\",\n",
        "                                          class_mode='binary')\n",
        "\n",
        "\n",
        "\n",
        "model = Sequential()\n",
        "\n",
        "# first layer\n",
        "model.add(Conv2D(32, (3, 3), input_shape=(128, 128, 3), activation='relu'))\n",
        "model.add(MaxPooling2D(pool_size=(2, 2)))\n",
        "\n",
        "# second layer\n",
        "model.add(Conv2D(64, (3, 3), activation='relu'))\n",
        "model.add(MaxPooling2D(pool_size=(2, 2)))\n",
        "\n",
        "# flattern layer\n",
        "model.add(Flatten())\n",
        "\n",
        "# Dense layer\n",
        "model.add(Dense(256, activation='relu'))\n",
        "model.add(Dense(1, activation='sigmoid'))\n",
        "\n",
        "# compile the model\n",
        "model.compile(optimizer='adam', loss='binary_crossentropy', metrics=['accuracy'])\n",
        "model_history = model.fit(train_set, validation_data=test_set, epochs=10)\n",
        "\n",
        "\n",
        "plt.style.use(\"ggplot\")\n",
        "plt.figure()\n",
        "\n",
        "plt.plot(np.arange(0, 10), model_history.history[\"accuracy\"], label=\"train_acc\")\n",
        "plt.plot(np.arange(0, 10), model_history.history[\"val_accuracy\"], label=\"val_accuracy\")\n",
        "\n",
        "plt.title(\"Training and validation Accuracy on Dataset\")\n",
        "plt.xlabel(\"Epoch #\")\n",
        "plt.ylabel(\"Loss/Accuracy\")\n",
        "plt.legend(loc=\"lower left\")\n",
        "\n",
        "# # check image\n",
        "#\n",
        "# test_image = image.load_img('Fake.png', target_size=(128, 128))\n",
        "# test_image = image.img_to_array(test_image)\n",
        "# test_image = np.expand_dims(test_image, axis=0)\n",
        "# result = model.predict(test_image)\n",
        "# # train_set.class_indices\n",
        "# if result[0][0] == 1:\n",
        "#     prediction = 'Live'\n",
        "# else:\n",
        "#     prediction = 'Fake'\n",
        "# print(prediction)\n"
      ],
      "metadata": {
        "colab": {
          "base_uri": "https://localhost:8080/"
        },
        "id": "t1rADQskX1wT",
        "outputId": "41c70536-71db-4006-a910-2b9628928e5e"
      },
      "execution_count": null,
      "outputs": [
        {
          "output_type": "stream",
          "name": "stdout",
          "text": [
            "Found 407 images belonging to 2 classes.\n",
            "Found 400 images belonging to 2 classes.\n",
            "Epoch 1/10\n",
            "13/13 [==============================] - 168s 13s/step - loss: 1.7663 - accuracy: 0.5135 - val_loss: 0.6913 - val_accuracy: 0.6975\n"
          ]
        }
      ]
    }
  ],
  "metadata": {
    "kernelspec": {
      "display_name": "Python 3",
      "language": "python",
      "name": "python3"
    },
    "language_info": {
      "codemirror_mode": {
        "name": "ipython",
        "version": 2
      },
      "file_extension": ".py",
      "mimetype": "text/x-python",
      "name": "python",
      "nbconvert_exporter": "python",
      "pygments_lexer": "ipython2",
      "version": "2.7.6"
    },
    "colab": {
      "name": "CNN_real_fake_classification.ipynb",
      "provenance": [],
      "include_colab_link": true
    }
  },
  "nbformat": 4,
  "nbformat_minor": 0
}